{
 "cells": [
  {
   "cell_type": "code",
   "execution_count": 1,
   "id": "fdaa0b7f-2b52-4ee3-ac09-c27bd57d0f2d",
   "metadata": {},
   "outputs": [
    {
     "name": "stdin",
     "output_type": "stream",
     "text": [
      "Enter the lower bound:  1\n",
      "Enter the upper bound:  35\n"
     ]
    },
    {
     "name": "stdout",
     "output_type": "stream",
     "text": [
      "Count of perfect squares between 1 and 35 : 5\n"
     ]
    }
   ],
   "source": [
    "#count of perfect square numbers in a given range\n",
    "a = int(input(\"Enter the lower bound: \"))\n",
    "b = int(input(\"Enter the upper bound: \"))\n",
    "\n",
    "c = int((b ** 0.5) - (a ** 0.5)) + 1\n",
    "\n",
    "\n",
    "print(f\"Count of perfect squares between {a} and {b} : {c}\")\n"
   ]
  },
  {
   "cell_type": "code",
   "execution_count": 2,
   "id": "3ebe1e0a-2f2f-4e8c-a49d-421d585ef733",
   "metadata": {},
   "outputs": [
    {
     "name": "stdout",
     "output_type": "stream",
     "text": [
      "* \n",
      "* * \n",
      "* * * \n",
      "* * * * \n",
      "* * * * * \n",
      "* * * * \n",
      "* * * \n",
      "* * \n",
      "* \n"
     ]
    }
   ],
   "source": [
    "#pattern printing\n",
    "r=5\n",
    "for i in range(1,r+1):\n",
    "    for j in range(1,i+1):\n",
    "        print(\"*\",end=\" \")\n",
    "    print()\n",
    "for i in range(r-1,0,-1):\n",
    "    for j in range(1,i+1):\n",
    "        print(\"*\",end=\" \")\n",
    "    print()            "
   ]
  },
  {
   "cell_type": "code",
   "execution_count": 8,
   "id": "80dc2453-2541-4423-8060-8f62ed4ceb3a",
   "metadata": {},
   "outputs": [
    {
     "name": "stdin",
     "output_type": "stream",
     "text": [
      "enter a number: 7\n"
     ]
    },
    {
     "name": "stdout",
     "output_type": "stream",
     "text": [
      "it is prime number\n"
     ]
    }
   ],
   "source": [
    "#check number is prime or not\n",
    "n=int(input(\"enter a number:\"))\n",
    "if n<1:\n",
    "    print(\"not a prime number\")\n",
    "else:\n",
    "    for i in range(2,n):\n",
    "        if n%i==0:\n",
    "            print(\"not a prime number\")\n",
    "            break\n",
    "    else:\n",
    "        print(\"it is prime number\")\n",
    "    "
   ]
  },
  {
   "cell_type": "code",
   "execution_count": null,
   "id": "ec7c6148-709f-40f5-86f7-b0ed99e4ccad",
   "metadata": {},
   "outputs": [],
   "source": []
  }
 ],
 "metadata": {
  "kernelspec": {
   "display_name": "Python 3 (ipykernel)",
   "language": "python",
   "name": "python3"
  },
  "language_info": {
   "codemirror_mode": {
    "name": "ipython",
    "version": 3
   },
   "file_extension": ".py",
   "mimetype": "text/x-python",
   "name": "python",
   "nbconvert_exporter": "python",
   "pygments_lexer": "ipython3",
   "version": "3.11.7"
  }
 },
 "nbformat": 4,
 "nbformat_minor": 5
}
