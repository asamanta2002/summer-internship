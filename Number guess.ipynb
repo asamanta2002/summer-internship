{
 "cells": [
  {
   "cell_type": "code",
   "execution_count": 6,
   "id": "422e7967-13d7-4702-abb8-1c9bd3c7fa2a",
   "metadata": {},
   "outputs": [],
   "source": [
    "import random"
   ]
  },
  {
   "cell_type": "code",
   "execution_count": null,
   "id": "fb81f9b3-9f4f-4cb8-aedd-6275b4fe8765",
   "metadata": {},
   "outputs": [],
   "source": [
    "u=int(input(\"enter the upperbound:\"))\n",
    "n=0\n",
    "c=0\n",
    "i=random.randint(1,u)\n",
    "while i!=n:\n",
    "    n=int(input(\"Enter The Guess:\"))\n",
    "    c+=1\n",
    "    if i>n:\n",
    "        print(\"Guessed Number Is Lower!\")\n",
    "    elif i<n:  \n",
    "        print(\"Guessed Number Is Higher!\")\n",
    "    else:\n",
    "        print(\"Congrats !!! ,you Got It\")\n",
    "        print(f\"{c} no of trial required to guess it correctly\")\n",
    "    \n",
    "    "
   ]
  },
  {
   "cell_type": "code",
   "execution_count": null,
   "id": "baa29acc-0b62-4b21-9dec-4e43075811aa",
   "metadata": {},
   "outputs": [],
   "source": []
  },
  {
   "cell_type": "code",
   "execution_count": null,
   "id": "1bf937d5-976c-47a0-81fa-4b44f8e8a324",
   "metadata": {},
   "outputs": [],
   "source": []
  }
 ],
 "metadata": {
  "kernelspec": {
   "display_name": "Python 3 (ipykernel)",
   "language": "python",
   "name": "python3"
  },
  "language_info": {
   "codemirror_mode": {
    "name": "ipython",
    "version": 3
   },
   "file_extension": ".py",
   "mimetype": "text/x-python",
   "name": "python",
   "nbconvert_exporter": "python",
   "pygments_lexer": "ipython3",
   "version": "3.11.7"
  }
 },
 "nbformat": 4,
 "nbformat_minor": 5
}
